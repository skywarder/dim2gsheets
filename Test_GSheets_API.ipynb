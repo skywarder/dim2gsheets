{
 "cells": [
  {
   "cell_type": "code",
   "execution_count": 6,
   "metadata": {},
   "outputs": [
    {
     "name": "stdout",
     "output_type": "stream",
     "text": [
      "['A1', 'B1', 'C1', 'D1', 'E1']\n"
     ]
    },
    {
     "data": {
      "text/plain": [
       "{'spreadsheetId': '1Oui0gLgglQy8-1fxd-oKtQv9VPavqSIFOdgplNWi5Zg',\n",
       " 'updatedRange': 'test!A5:E5',\n",
       " 'updatedRows': 1,\n",
       " 'updatedColumns': 5,\n",
       " 'updatedCells': 5}"
      ]
     },
     "execution_count": 6,
     "metadata": {},
     "output_type": "execute_result"
    }
   ],
   "source": [
    "import gspread\n",
    "from oauth2client.service_account import ServiceAccountCredentials\n",
    "\n",
    "SPREAD_SHEET_NAME = 'MetroCC_data_2019-08'\n",
    "CRED_FILENAME = 'dim2GSheets-aa30775bc217.json'\n",
    "SPREADSHEET_ID = '1Oui0gLgglQy8-1fxd-oKtQv9VPavqSIFOdgplNWi5Zg'\n",
    "\n",
    "SCOPES = ['https://www.googleapis.com/auth/spreadsheets']\n",
    "\n",
    "credentials = ServiceAccountCredentials.from_json_keyfile_name(CRED_FILENAME, SCOPES)\n",
    "\n",
    "gc = gspread.authorize(credentials)\n",
    "\n",
    "#worksheet = gc.open(SPREAD_SHEET_NAME).sheet1\n",
    "worksheet = gc.open_by_key(SPREADSHEET_ID).sheet1\n",
    "\n",
    "values_list = worksheet.row_values(1)\n",
    "\n",
    "print (values_list)\n",
    "\n",
    "cell_list = worksheet.range('A5:E5')\n",
    "\n",
    "for cell in cell_list:\n",
    "    cell.value = 'test'\n",
    "    \n",
    "# Update in batch\n",
    "worksheet.update_cells(cell_list)"
   ]
  },
  {
   "cell_type": "code",
   "execution_count": 1,
   "metadata": {},
   "outputs": [],
   "source": [
    "import pandas as pd\n",
    "ds = pd.DataFrame([[1, '16.08.2019 13:42:04'],[2, '16.08.2019 13:42:04'],[3, '16.08.2019 13:42:04']], columns=['N', 'Timestamp'])"
   ]
  },
  {
   "cell_type": "code",
   "execution_count": 2,
   "metadata": {},
   "outputs": [
    {
     "data": {
      "text/html": [
       "<div>\n",
       "<style scoped>\n",
       "    .dataframe tbody tr th:only-of-type {\n",
       "        vertical-align: middle;\n",
       "    }\n",
       "\n",
       "    .dataframe tbody tr th {\n",
       "        vertical-align: top;\n",
       "    }\n",
       "\n",
       "    .dataframe thead th {\n",
       "        text-align: right;\n",
       "    }\n",
       "</style>\n",
       "<table border=\"1\" class=\"dataframe\">\n",
       "  <thead>\n",
       "    <tr style=\"text-align: right;\">\n",
       "      <th></th>\n",
       "      <th>N</th>\n",
       "      <th>Timestamp</th>\n",
       "    </tr>\n",
       "  </thead>\n",
       "  <tbody>\n",
       "    <tr>\n",
       "      <th>0</th>\n",
       "      <td>1</td>\n",
       "      <td>16.08.2019 13:42:04</td>\n",
       "    </tr>\n",
       "    <tr>\n",
       "      <th>1</th>\n",
       "      <td>2</td>\n",
       "      <td>16.08.2019 13:42:04</td>\n",
       "    </tr>\n",
       "    <tr>\n",
       "      <th>2</th>\n",
       "      <td>3</td>\n",
       "      <td>16.08.2019 13:42:04</td>\n",
       "    </tr>\n",
       "  </tbody>\n",
       "</table>\n",
       "</div>"
      ],
      "text/plain": [
       "   N            Timestamp\n",
       "0  1  16.08.2019 13:42:04\n",
       "1  2  16.08.2019 13:42:04\n",
       "2  3  16.08.2019 13:42:04"
      ]
     },
     "execution_count": 2,
     "metadata": {},
     "output_type": "execute_result"
    }
   ],
   "source": [
    "ds"
   ]
  },
  {
   "cell_type": "code",
   "execution_count": 3,
   "metadata": {},
   "outputs": [],
   "source": [
    "ds['Datetime'] = pd.to_datetime(ds['Timestamp'])"
   ]
  },
  {
   "cell_type": "code",
   "execution_count": 4,
   "metadata": {},
   "outputs": [
    {
     "data": {
      "text/html": [
       "<div>\n",
       "<style scoped>\n",
       "    .dataframe tbody tr th:only-of-type {\n",
       "        vertical-align: middle;\n",
       "    }\n",
       "\n",
       "    .dataframe tbody tr th {\n",
       "        vertical-align: top;\n",
       "    }\n",
       "\n",
       "    .dataframe thead th {\n",
       "        text-align: right;\n",
       "    }\n",
       "</style>\n",
       "<table border=\"1\" class=\"dataframe\">\n",
       "  <thead>\n",
       "    <tr style=\"text-align: right;\">\n",
       "      <th></th>\n",
       "      <th>N</th>\n",
       "      <th>Timestamp</th>\n",
       "      <th>Datetime</th>\n",
       "    </tr>\n",
       "  </thead>\n",
       "  <tbody>\n",
       "    <tr>\n",
       "      <th>0</th>\n",
       "      <td>1</td>\n",
       "      <td>16.08.2019 13:42:04</td>\n",
       "      <td>2019-08-16 13:42:04</td>\n",
       "    </tr>\n",
       "    <tr>\n",
       "      <th>1</th>\n",
       "      <td>2</td>\n",
       "      <td>16.08.2019 13:42:04</td>\n",
       "      <td>2019-08-16 13:42:04</td>\n",
       "    </tr>\n",
       "    <tr>\n",
       "      <th>2</th>\n",
       "      <td>3</td>\n",
       "      <td>16.08.2019 13:42:04</td>\n",
       "      <td>2019-08-16 13:42:04</td>\n",
       "    </tr>\n",
       "  </tbody>\n",
       "</table>\n",
       "</div>"
      ],
      "text/plain": [
       "   N            Timestamp            Datetime\n",
       "0  1  16.08.2019 13:42:04 2019-08-16 13:42:04\n",
       "1  2  16.08.2019 13:42:04 2019-08-16 13:42:04\n",
       "2  3  16.08.2019 13:42:04 2019-08-16 13:42:04"
      ]
     },
     "execution_count": 4,
     "metadata": {},
     "output_type": "execute_result"
    }
   ],
   "source": [
    "ds"
   ]
  },
  {
   "cell_type": "code",
   "execution_count": null,
   "metadata": {},
   "outputs": [],
   "source": []
  }
 ],
 "metadata": {
  "kernelspec": {
   "display_name": "Python 3",
   "language": "python",
   "name": "python3"
  },
  "language_info": {
   "codemirror_mode": {
    "name": "ipython",
    "version": 3
   },
   "file_extension": ".py",
   "mimetype": "text/x-python",
   "name": "python",
   "nbconvert_exporter": "python",
   "pygments_lexer": "ipython3",
   "version": "3.6.5"
  }
 },
 "nbformat": 4,
 "nbformat_minor": 2
}
